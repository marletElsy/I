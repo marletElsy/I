{
  "nbformat": 4,
  "nbformat_minor": 0,
  "metadata": {
    "colab": {
      "name": "actividad-01.ipynb",
      "provenance": [],
      "authorship_tag": "ABX9TyMBsRtglGfX/UZHADW/aWzC",
      "include_colab_link": true
    },
    "kernelspec": {
      "name": "python3",
      "display_name": "Python 3"
    },
    "language_info": {
      "name": "python"
    }
  },
  "cells": [
    {
      "cell_type": "markdown",
      "metadata": {
        "id": "view-in-github",
        "colab_type": "text"
      },
      "source": [
        "<a href=\"https://colab.research.google.com/github/marletElsy/I/blob/main/actividad_01.ipynb\" target=\"_parent\"><img src=\"https://colab.research.google.com/assets/colab-badge.svg\" alt=\"Open In Colab\"/></a>"
      ]
    },
    {
      "cell_type": "markdown",
      "source": [
        "Resolución de sistema de ecuaciones"
      ],
      "metadata": {
        "id": "adXK5kFC1ib6"
      }
    },
    {
      "cell_type": "code",
      "execution_count": 33,
      "metadata": {
        "id": "hJI3Dh_V1coI"
      },
      "outputs": [],
      "source": [
        " #Librerias\n",
        "\n",
        "import pandas as pd\n",
        "import numpy as np\n",
        "import matplotlib.pyplot as plt"
      ]
    },
    {
      "cell_type": "markdown",
      "source": [
        "#Primer ejercicio"
      ],
      "metadata": {
        "id": "mvGS1Yob5fy9"
      }
    },
    {
      "cell_type": "code",
      "source": [
        "x = np.array([50,600 ])\n",
        "print(x)"
      ],
      "metadata": {
        "id": "_91-Hwvj1e0w",
        "outputId": "8bfa5f95-4809-461b-9303-35ca10d590a7",
        "colab": {
          "base_uri": "https://localhost:8080/"
        }
      },
      "execution_count": 34,
      "outputs": [
        {
          "output_type": "stream",
          "name": "stdout",
          "text": [
            "[ 50 600]\n"
          ]
        }
      ]
    },
    {
      "cell_type": "code",
      "source": [
        "y1 = -x + 600\n",
        "print(y1)"
      ],
      "metadata": {
        "id": "ZSPh3ypb1fGy",
        "colab": {
          "base_uri": "https://localhost:8080/"
        },
        "outputId": "2087ef3d-d10e-48e9-a7e4-8c2fe7722046"
      },
      "execution_count": 35,
      "outputs": [
        {
          "output_type": "stream",
          "name": "stdout",
          "text": [
            "[550   0]\n"
          ]
        }
      ]
    },
    {
      "cell_type": "code",
      "source": [
        "y2 = 2*x\n",
        "print(y2)"
      ],
      "metadata": {
        "id": "HrSGsIL91fOM",
        "colab": {
          "base_uri": "https://localhost:8080/"
        },
        "outputId": "87db6ccd-d299-418b-e1da-5f2a8c0a9b87"
      },
      "execution_count": 36,
      "outputs": [
        {
          "output_type": "stream",
          "name": "stdout",
          "text": [
            "[ 100 1200]\n"
          ]
        }
      ]
    },
    {
      "cell_type": "markdown",
      "source": [
        "Gráfico"
      ],
      "metadata": {
        "id": "fQPm_BrR_F2G"
      }
    },
    {
      "cell_type": "code",
      "source": [
        "fig = plt.figure(figsize=(8,5))\n",
        "\n",
        "plt.plot(x,y1, lw=2, color =\"skyblue\", label= \"$y_{1}= -x + 600$\")\n",
        "plt.plot(x,y2, lw=2,color =\"olive\", label = \"$y_{2}= 2x$\")\n",
        "\n",
        "plt.title(\"Sistema de Ecuaciones\", fontsize=16)\n",
        "plt.xlabel(\"$x$\", fontsize=14)\n",
        "plt.ylabel(\"$y$\", fontsize=14)\n",
        "plt.grid(True)\n",
        "plt.legend()\n",
        "\n",
        "plt.savefig(\"grafico-01.png\" , format= \"PNG\",dpi=320)\n",
        "plt.show()"
      ],
      "metadata": {
        "colab": {
          "base_uri": "https://localhost:8080/",
          "height": 356
        },
        "id": "teGCFb1W_D39",
        "outputId": "e1723e40-f57b-497c-98c2-5830aa738553"
      },
      "execution_count": 37,
      "outputs": [
        {
          "output_type": "display_data",
          "data": {
            "text/plain": [
              "<Figure size 576x360 with 1 Axes>"
            ],
            "image/png": "[encoded data removed]"
          },
          "metadata": {
            "needs_background": "light"
          }
        }
      ]
    },
    {
      "cell_type": "markdown",
      "source": [
        "Segundo ejercicio"
      ],
      "metadata": {
        "id": "FTAJtZifGcWT"
      }
    },
    {
      "cell_type": "code",
      "source": [
        "x1 = np.array([0,5])\n",
        "print(x1)"
      ],
      "metadata": {
        "id": "09Wa1DUsGbcT",
        "outputId": "5c38e29d-dc31-452f-ad3a-fc961353588d",
        "colab": {
          "base_uri": "https://localhost:8080/"
        }
      },
      "execution_count": 39,
      "outputs": [
        {
          "output_type": "stream",
          "name": "stdout",
          "text": [
            "[0 5]\n"
          ]
        }
      ]
    },
    {
      "cell_type": "code",
      "source": [
        "y3 = -2*x1 + 5\n",
        "print(y3)"
      ],
      "metadata": {
        "id": "e4lzIVuEHX4k",
        "outputId": "233a2e96-a0d4-480b-a4e1-dd0ce1cf07aa",
        "colab": {
          "base_uri": "https://localhost:8080/"
        }
      },
      "execution_count": 40,
      "outputs": [
        {
          "output_type": "stream",
          "name": "stdout",
          "text": [
            "[ 5 -5]\n"
          ]
        }
      ]
    },
    {
      "cell_type": "code",
      "source": [
        "y4 = (3*x1-4)/2\n",
        "print(y4)"
      ],
      "metadata": {
        "id": "6ErWywwPIC8X",
        "outputId": "381312e0-5512-4a3a-b2dc-e79327160620",
        "colab": {
          "base_uri": "https://localhost:8080/"
        }
      },
      "execution_count": 41,
      "outputs": [
        {
          "output_type": "stream",
          "name": "stdout",
          "text": [
            "[-2.   5.5]\n"
          ]
        }
      ]
    },
    {
      "cell_type": "code",
      "source": [
        "yticks = np.arange(-3, 6,1)\n",
        "print(yticks)"
      ],
      "metadata": {
        "id": "qraC8wFpOPO1",
        "outputId": "cb030bb1-8641-4be5-f311-4fe78865bb71",
        "colab": {
          "base_uri": "https://localhost:8080/"
        }
      },
      "execution_count": 79,
      "outputs": [
        {
          "output_type": "stream",
          "name": "stdout",
          "text": [
            "[-3 -2 -1  0  1  2  3  4  5]\n"
          ]
        }
      ]
    },
    {
      "cell_type": "code",
      "source": [
        "print(len(yticks))"
      ],
      "metadata": {
        "id": "pSXfB4abPclw",
        "outputId": "3fef4d36-9499-443b-8d2d-6f7f18e69aaa",
        "colab": {
          "base_uri": "https://localhost:8080/"
        }
      },
      "execution_count": 80,
      "outputs": [
        {
          "output_type": "stream",
          "name": "stdout",
          "text": [
            "9\n"
          ]
        }
      ]
    },
    {
      "cell_type": "markdown",
      "source": [
        "Gráfico"
      ],
      "metadata": {
        "id": "DnKJpLgiIfUg"
      }
    },
    {
      "cell_type": "code",
      "source": [
        "fig = plt.figure(figsize=(10,5))\n",
        "plt.plot(x1,y3, color= \"indigo\", lw=2, label= \"$y_{1} = -2x+5$\")\n",
        "plt.plot(x1,y4, color= \"orchid\", lw=2, label= \"$y_{2} = (3x-4)/2$\" )\n",
        "\n",
        "\n",
        "ticks = np.arange(-3, 6,1)\n",
        "\n",
        "plt.yticks(ticks)\n",
        "plt.xticks(ticks)\n",
        "plt.title (\"Sistema de Ecuaciones\")\n",
        "plt.xlabel (\"$x$\")\n",
        "plt.ylabel (\"$y$\")\n",
        "plt.grid(True)\n",
        "plt.legend()\n",
        "plt.show()"
      ],
      "metadata": {
        "id": "QcynenmZIcRs",
        "outputId": "d0289bef-c2b4-4dc7-d666-1f90d311210f",
        "colab": {
          "base_uri": "https://localhost:8080/",
          "height": 350
        }
      },
      "execution_count": 84,
      "outputs": [
        {
          "output_type": "display_data",
          "data": {
            "text/plain": [
              "<Figure size 720x360 with 1 Axes>"
            ],
            "image/png": "[encoded data removed]"
          },
          "metadata": {
            "needs_background": "light"
          }
        }
      ]
    }
  ]
}
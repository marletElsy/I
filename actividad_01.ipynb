{
  "nbformat": 4,
  "nbformat_minor": 0,
  "metadata": {
    "colab": {
      "name": "actividad-01.ipynb",
      "provenance": [],
      "authorship_tag": "ABX9TyOzIrLYV50AMMbIhcaN25Ig",
      "include_colab_link": true
    },
    "kernelspec": {
      "name": "python3",
      "display_name": "Python 3"
    },
    "language_info": {
      "name": "python"
    }
  },
  "cells": [
    {
      "cell_type": "markdown",
      "metadata": {
        "id": "view-in-github",
        "colab_type": "text"
      },
      "source": [
        "<a href=\"https://colab.research.google.com/github/marletElsy/I/blob/main/actividad_01.ipynb\" target=\"_parent\"><img src=\"https://colab.research.google.com/assets/colab-badge.svg\" alt=\"Open In Colab\"/></a>"
      ]
    },
    {
      "cell_type": "markdown",
      "source": [
        "Resolución de sistema de ecuaciones"
      ],
      "metadata": {
        "id": "adXK5kFC1ib6"
      }
    },
    {
      "cell_type": "code",
      "execution_count": 30,
      "metadata": {
        "id": "hJI3Dh_V1coI"
      },
      "outputs": [],
      "source": [
        "# Librerias\n",
        "\n",
        "import pandas as pd\n",
        "import numpy as np\n",
        "import matplotlib.pyplot as plt"
      ]
    },
    {
      "cell_type": "markdown",
      "source": [
        "#Primer ejercicio"
      ],
      "metadata": {
        "id": "mvGS1Yob5fy9"
      }
    },
    {
      "cell_type": "code",
      "source": [
        "x = np.array([50,600 ])"
      ],
      "metadata": {
        "id": "_91-Hwvj1e0w"
      },
      "execution_count": 31,
      "outputs": []
    },
    {
      "cell_type": "code",
      "source": [
        "y1 = -x + 600\n",
        "print(y1)"
      ],
      "metadata": {
        "id": "ZSPh3ypb1fGy",
        "colab": {
          "base_uri": "https://localhost:8080/"
        },
        "outputId": "1c1d56d3-7910-446c-cc8d-2cb8e9c296c7"
      },
      "execution_count": 32,
      "outputs": [
        {
          "output_type": "stream",
          "name": "stdout",
          "text": [
            "[550   0]\n"
          ]
        }
      ]
    },
    {
      "cell_type": "code",
      "source": [
        "y2 = 2*x\n",
        "print(y2)"
      ],
      "metadata": {
        "id": "HrSGsIL91fOM",
        "colab": {
          "base_uri": "https://localhost:8080/"
        },
        "outputId": "9a564611-ae48-450a-812c-a3087028fbca"
      },
      "execution_count": 33,
      "outputs": [
        {
          "output_type": "stream",
          "name": "stdout",
          "text": [
            "[ 100 1200]\n"
          ]
        }
      ]
    },
    {
      "cell_type": "markdown",
      "source": [
        "Gráfico"
      ],
      "metadata": {
        "id": "fQPm_BrR_F2G"
      }
    },
    {
      "cell_type": "code",
      "source": [
        "fig = plt.figure(figsize=(8,5))\n",
        "\n",
        "plt.plot(x,y1, lw=2, label= \"$y_{1}= -x + 600$\")\n",
        "plt.plot(x,y2, lw=2, label = \"$y_{2}= 2x$\")\n",
        "\n",
        "plt.title(\"Sistema de Ecuaciones\", fontsize=16)\n",
        "plt.xlabel(\"$x$\", fontsize=14)\n",
        "plt.ylabel(\"$y$\", fontsize=14)\n",
        "plt.grid(True)\n",
        "plt.legend()\n",
        "\n",
        "plt.savefig(\"grafico-01.png\" , format= \"PNG\",dpi=320)\n",
        "plt.show()"
      ],
      "metadata": {
        "colab": {
          "base_uri": "https://localhost:8080/",
          "height": 356
        },
        "id": "teGCFb1W_D39",
        "outputId": "3129b070-4fc9-421d-fd68-0ce10b4c730d"
      },
      "execution_count": 34,
      "outputs": [
        {
          "output_type": "display_data",
          "data": {
            "text/plain": [
              "<Figure size 576x360 with 1 Axes>"
            ],
            "image/png": "[encoded data removed]"
          },
          "metadata": {
            "needs_background": "light"
          }
        }
      ]
    }
  ]
}
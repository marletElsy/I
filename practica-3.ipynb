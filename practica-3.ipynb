{
  "nbformat": 4,
  "nbformat_minor": 0,
  "metadata": {
    "colab": {
      "name": "Untitled19.ipynb",
      "provenance": [],
      "collapsed_sections": [],
      "authorship_tag": "ABX9TyPuoccKc8VmlIatsZNgknnQ",
      "include_colab_link": true
    },
    "kernelspec": {
      "name": "python3",
      "display_name": "Python 3"
    },
    "language_info": {
      "name": "python"
    }
  },
  "cells": [
    {
      "cell_type": "markdown",
      "metadata": {
        "id": "view-in-github",
        "colab_type": "text"
      },
      "source": [
        "<a href=\"https://colab.research.google.com/github/marletElsy/I/blob/main/practica-3.ipynb\" target=\"_parent\"><img src=\"https://colab.research.google.com/assets/colab-badge.svg\" alt=\"Open In Colab\"/></a>"
      ]
    },
    {
      "cell_type": "code",
      "execution_count": 37,
      "metadata": {
        "id": "gHhAk_-bT5O1"
      },
      "outputs": [],
      "source": [
        ""
      ]
    },
    {
      "cell_type": "markdown",
      "source": [
        "Histogramas"
      ],
      "metadata": {
        "id": "JHignwCgU1Gi"
      }
    },
    {
      "cell_type": "code",
      "source": [
        "import pandas as pd\n",
        "import numpy as np\n",
        "import matplotlib.pyplot as plt"
      ],
      "metadata": {
        "id": "J7VO4alRU84b"
      },
      "execution_count": 38,
      "outputs": []
    },
    {
      "cell_type": "code",
      "source": [
        "data = pd.read_csv(\"BAHB.csv\", sep=\",\")\n",
        "data.head()"
      ],
      "metadata": {
        "colab": {
          "base_uri": "https://localhost:8080/",
          "height": 270
        },
        "id": "VlKynjQiVdWw",
        "outputId": "7b4cf721-4ea7-4220-f948-70f2273d4647"
      },
      "execution_count": 78,
      "outputs": [
        {
          "output_type": "execute_result",
          "data": {
            "text/plain": [
              "   171.70395  110.749206   110749.206  13.84365075   40.6  54.44365075  \\\n",
              "0  258.74688   56.122963  56122.96323     7.015370  32.66    39.675370   \n",
              "1  258.02688   56.317925  56317.92473     7.039741  10.80    17.839741   \n",
              "2  158.79858   68.770506  68770.50608     8.596313  40.60    49.196313   \n",
              "3  156.51285   79.944014  79944.01442     9.993002  41.20    51.193002   \n",
              "4  212.48766   18.495894  18495.89368     2.311987  49.30    51.611987   \n",
              "\n",
              "   0.907394179  BAHB  882  2009  8  4   2  40   3.734  29.9318  -113.7249  \\\n",
              "0     0.661256  BAHB  883  2009  8  4   3  11  44.181  29.0430  -112.9964   \n",
              "1     0.297329  BAHB  891  2009  8  4   8  49   2.596  29.0496  -112.9959   \n",
              "2     0.819939  BAHB  892  2009  8  4   9  20  58.026  29.5217  -113.8161   \n",
              "3     0.853217  BAHB  894  2009  8  4  10  53  56.290  29.6049  -113.8878   \n",
              "4     0.860200  BAHB  897  2009  8  4  12  14  29.352  29.0838  -113.4591   \n",
              "\n",
              "    1.41  5.1  \n",
              "0   3.60  5.5  \n",
              "1   0.20  4.8  \n",
              "2  20.29  5.2  \n",
              "3   9.23  5.3  \n",
              "4   0.38  5.2  "
            ],
            "text/html": [
              "\n",
              "  <div id=\"df-e9b0d6c8-4d43-4cbd-aa0b-013a45fb5ef5\">\n",
              "    <div class=\"colab-df-container\">\n",
              "      <div>\n",
              "<style scoped>\n",
              "    .dataframe tbody tr th:only-of-type {\n",
              "        vertical-align: middle;\n",
              "    }\n",
              "\n",
              "    .dataframe tbody tr th {\n",
              "        vertical-align: top;\n",
              "    }\n",
              "\n",
              "    .dataframe thead th {\n",
              "        text-align: right;\n",
              "    }\n",
              "</style>\n",
              "<table border=\"1\" class=\"dataframe\">\n",
              "  <thead>\n",
              "    <tr style=\"text-align: right;\">\n",
              "      <th></th>\n",
              "      <th>171.70395</th>\n",
              "      <th>110.749206</th>\n",
              "      <th>110749.206</th>\n",
              "      <th>13.84365075</th>\n",
              "      <th>40.6</th>\n",
              "      <th>54.44365075</th>\n",
              "      <th>0.907394179</th>\n",
              "      <th>BAHB</th>\n",
              "      <th>882</th>\n",
              "      <th>2009</th>\n",
              "      <th>8</th>\n",
              "      <th>4</th>\n",
              "      <th>2</th>\n",
              "      <th>40</th>\n",
              "      <th>3.734</th>\n",
              "      <th>29.9318</th>\n",
              "      <th>-113.7249</th>\n",
              "      <th>1.41</th>\n",
              "      <th>5.1</th>\n",
              "    </tr>\n",
              "  </thead>\n",
              "  <tbody>\n",
              "    <tr>\n",
              "      <th>0</th>\n",
              "      <td>258.74688</td>\n",
              "      <td>56.122963</td>\n",
              "      <td>56122.96323</td>\n",
              "      <td>7.015370</td>\n",
              "      <td>32.66</td>\n",
              "      <td>39.675370</td>\n",
              "      <td>0.661256</td>\n",
              "      <td>BAHB</td>\n",
              "      <td>883</td>\n",
              "      <td>2009</td>\n",
              "      <td>8</td>\n",
              "      <td>4</td>\n",
              "      <td>3</td>\n",
              "      <td>11</td>\n",
              "      <td>44.181</td>\n",
              "      <td>29.0430</td>\n",
              "      <td>-112.9964</td>\n",
              "      <td>3.60</td>\n",
              "      <td>5.5</td>\n",
              "    </tr>\n",
              "    <tr>\n",
              "      <th>1</th>\n",
              "      <td>258.02688</td>\n",
              "      <td>56.317925</td>\n",
              "      <td>56317.92473</td>\n",
              "      <td>7.039741</td>\n",
              "      <td>10.80</td>\n",
              "      <td>17.839741</td>\n",
              "      <td>0.297329</td>\n",
              "      <td>BAHB</td>\n",
              "      <td>891</td>\n",
              "      <td>2009</td>\n",
              "      <td>8</td>\n",
              "      <td>4</td>\n",
              "      <td>8</td>\n",
              "      <td>49</td>\n",
              "      <td>2.596</td>\n",
              "      <td>29.0496</td>\n",
              "      <td>-112.9959</td>\n",
              "      <td>0.20</td>\n",
              "      <td>4.8</td>\n",
              "    </tr>\n",
              "    <tr>\n",
              "      <th>2</th>\n",
              "      <td>158.79858</td>\n",
              "      <td>68.770506</td>\n",
              "      <td>68770.50608</td>\n",
              "      <td>8.596313</td>\n",
              "      <td>40.60</td>\n",
              "      <td>49.196313</td>\n",
              "      <td>0.819939</td>\n",
              "      <td>BAHB</td>\n",
              "      <td>892</td>\n",
              "      <td>2009</td>\n",
              "      <td>8</td>\n",
              "      <td>4</td>\n",
              "      <td>9</td>\n",
              "      <td>20</td>\n",
              "      <td>58.026</td>\n",
              "      <td>29.5217</td>\n",
              "      <td>-113.8161</td>\n",
              "      <td>20.29</td>\n",
              "      <td>5.2</td>\n",
              "    </tr>\n",
              "    <tr>\n",
              "      <th>3</th>\n",
              "      <td>156.51285</td>\n",
              "      <td>79.944014</td>\n",
              "      <td>79944.01442</td>\n",
              "      <td>9.993002</td>\n",
              "      <td>41.20</td>\n",
              "      <td>51.193002</td>\n",
              "      <td>0.853217</td>\n",
              "      <td>BAHB</td>\n",
              "      <td>894</td>\n",
              "      <td>2009</td>\n",
              "      <td>8</td>\n",
              "      <td>4</td>\n",
              "      <td>10</td>\n",
              "      <td>53</td>\n",
              "      <td>56.290</td>\n",
              "      <td>29.6049</td>\n",
              "      <td>-113.8878</td>\n",
              "      <td>9.23</td>\n",
              "      <td>5.3</td>\n",
              "    </tr>\n",
              "    <tr>\n",
              "      <th>4</th>\n",
              "      <td>212.48766</td>\n",
              "      <td>18.495894</td>\n",
              "      <td>18495.89368</td>\n",
              "      <td>2.311987</td>\n",
              "      <td>49.30</td>\n",
              "      <td>51.611987</td>\n",
              "      <td>0.860200</td>\n",
              "      <td>BAHB</td>\n",
              "      <td>897</td>\n",
              "      <td>2009</td>\n",
              "      <td>8</td>\n",
              "      <td>4</td>\n",
              "      <td>12</td>\n",
              "      <td>14</td>\n",
              "      <td>29.352</td>\n",
              "      <td>29.0838</td>\n",
              "      <td>-113.4591</td>\n",
              "      <td>0.38</td>\n",
              "      <td>5.2</td>\n",
              "    </tr>\n",
              "  </tbody>\n",
              "</table>\n",
              "</div>\n",
              "      <button class=\"colab-df-convert\" onclick=\"convertToInteractive('df-e9b0d6c8-4d43-4cbd-aa0b-013a45fb5ef5')\"\n",
              "              title=\"Convert this dataframe to an interactive table.\"\n",
              "              style=\"display:none;\">\n",
              "        \n",
              "  <svg xmlns=\"http://www.w3.org/2000/svg\" height=\"24px\"viewBox=\"0 0 24 24\"\n",
              "       width=\"24px\">\n",
              "    <path d=\"M0 0h24v24H0V0z\" fill=\"none\"/>\n",
              "    <path d=\"M18.56 5.44l.94 2.06.94-2.06 2.06-.94-2.06-.94-.94-2.06-.94 2.06-2.06.94zm-11 1L8.5 8.5l.94-2.06 2.06-.94-2.06-.94L8.5 2.5l-.94 2.06-2.06.94zm10 10l.94 2.06.94-2.06 2.06-.94-2.06-.94-.94-2.06-.94 2.06-2.06.94z\"/><path d=\"M17.41 7.96l-1.37-1.37c-.4-.4-.92-.59-1.43-.59-.52 0-1.04.2-1.43.59L10.3 9.45l-7.72 7.72c-.78.78-.78 2.05 0 2.83L4 21.41c.39.39.9.59 1.41.59.51 0 1.02-.2 1.41-.59l7.78-7.78 2.81-2.81c.8-.78.8-2.07 0-2.86zM5.41 20L4 18.59l7.72-7.72 1.47 1.35L5.41 20z\"/>\n",
              "  </svg>\n",
              "      </button>\n",
              "      \n",
              "  <style>\n",
              "    .colab-df-container {\n",
              "      display:flex;\n",
              "      flex-wrap:wrap;\n",
              "      gap: 12px;\n",
              "    }\n",
              "\n",
              "    .colab-df-convert {\n",
              "      background-color: #E8F0FE;\n",
              "      border: none;\n",
              "      border-radius: 50%;\n",
              "      cursor: pointer;\n",
              "      display: none;\n",
              "      fill: #1967D2;\n",
              "      height: 32px;\n",
              "      padding: 0 0 0 0;\n",
              "      width: 32px;\n",
              "    }\n",
              "\n",
              "    .colab-df-convert:hover {\n",
              "      background-color: #E2EBFA;\n",
              "      box-shadow: 0px 1px 2px rgba(60, 64, 67, 0.3), 0px 1px 3px 1px rgba(60, 64, 67, 0.15);\n",
              "      fill: #174EA6;\n",
              "    }\n",
              "\n",
              "    [theme=dark] .colab-df-convert {\n",
              "      background-color: #3B4455;\n",
              "      fill: #D2E3FC;\n",
              "    }\n",
              "\n",
              "    [theme=dark] .colab-df-convert:hover {\n",
              "      background-color: #434B5C;\n",
              "      box-shadow: 0px 1px 3px 1px rgba(0, 0, 0, 0.15);\n",
              "      filter: drop-shadow(0px 1px 2px rgba(0, 0, 0, 0.3));\n",
              "      fill: #FFFFFF;\n",
              "    }\n",
              "  </style>\n",
              "\n",
              "      <script>\n",
              "        const buttonEl =\n",
              "          document.querySelector('#df-e9b0d6c8-4d43-4cbd-aa0b-013a45fb5ef5 button.colab-df-convert');\n",
              "        buttonEl.style.display =\n",
              "          google.colab.kernel.accessAllowed ? 'block' : 'none';\n",
              "\n",
              "        async function convertToInteractive(key) {\n",
              "          const element = document.querySelector('#df-e9b0d6c8-4d43-4cbd-aa0b-013a45fb5ef5');\n",
              "          const dataTable =\n",
              "            await google.colab.kernel.invokeFunction('convertToInteractive',\n",
              "                                                     [key], {});\n",
              "          if (!dataTable) return;\n",
              "\n",
              "          const docLinkHtml = 'Like what you see? Visit the ' +\n",
              "            '<a target=\"_blank\" href=https://colab.research.google.com/notebooks/data_table.ipynb>data table notebook</a>'\n",
              "            + ' to learn more about interactive tables.';\n",
              "          element.innerHTML = '';\n",
              "          dataTable['output_type'] = 'display_data';\n",
              "          await google.colab.output.renderOutput(dataTable, element);\n",
              "          const docLink = document.createElement('div');\n",
              "          docLink.innerHTML = docLinkHtml;\n",
              "          element.appendChild(docLink);\n",
              "        }\n",
              "      </script>\n",
              "    </div>\n",
              "  </div>\n",
              "  "
            ]
          },
          "metadata": {},
          "execution_count": 78
        }
      ]
    },
    {
      "cell_type": "code",
      "source": [
        "data[\"azimuth\"]"
      ],
      "metadata": {
        "colab": {
          "base_uri": "https://localhost:8080/",
          "height": 0
        },
        "id": "SoeUYcmtWKFZ",
        "outputId": "dbc78654-5160-41cc-c9a3-f9ee433f2fb3"
      },
      "execution_count": 40,
      "outputs": [
        {
          "output_type": "stream",
          "name": "stdout",
          "text": [
            "0     333.94711\n",
            "1     154.83750\n",
            "2     155.00538\n",
            "3     301.73707\n",
            "4     302.95003\n",
            "5     304.03044\n",
            "6     303.02262\n",
            "7     297.89150\n",
            "8     303.07901\n",
            "9     297.90296\n",
            "10    169.75535\n",
            "11    155.86955\n",
            "12    169.77011\n",
            "13    159.86777\n",
            "14    162.12282\n",
            "15    154.42787\n",
            "16    212.41117\n",
            "17    150.33380\n",
            "18    268.03473\n",
            "19    171.16978\n",
            "20    162.08690\n",
            "21    163.76753\n",
            "22    162.32121\n",
            "23    164.18690\n",
            "24    195.64653\n",
            "25    171.70395\n",
            "26    258.74688\n",
            "27    258.02688\n",
            "28    158.79858\n",
            "29    156.51285\n",
            "30    212.48766\n",
            "31    158.96813\n",
            "32    175.94831\n",
            "33    158.51717\n",
            "34    169.22067\n",
            "35    165.28906\n",
            "36    158.00283\n",
            "37    160.13247\n",
            "38    161.52862\n",
            "39    150.06531\n",
            "40    280.95001\n",
            "41    163.39861\n",
            "42    165.94151\n",
            "43    162.64210\n",
            "44    159.96837\n",
            "45    161.69269\n",
            "46    158.67722\n",
            "47    175.35849\n",
            "48    190.96280\n",
            "49    156.78095\n",
            "50    171.52596\n",
            "51    162.41178\n",
            "52    165.42048\n",
            "53    284.25885\n",
            "54    281.54516\n",
            "55    151.71007\n",
            "56    158.59484\n",
            "57    164.59793\n",
            "58    160.24338\n",
            "59    160.09308\n",
            "Name: azimuth, dtype: float64\n"
          ]
        }
      ]
    },
    {
      "cell_type": "code",
      "source": [
        "print(len(data))"
      ],
      "metadata": {
        "colab": {
          "base_uri": "https://localhost:8080/",
          "height": 0
        },
        "id": "iCo7ZYFlWlPh",
        "outputId": "38dc5eab-3313-4572-dbcc-2a6f6ccc7be7"
      },
      "execution_count": 41,
      "outputs": [
        {
          "output_type": "stream",
          "name": "stdout",
          "text": [
            "60\n"
          ]
        }
      ]
    },
    {
      "cell_type": "code",
      "source": [
        "fig = plt.figure(figsize = (6,4))\n",
        "plt.hist(data[\"MAG\"],20, facecolor=\"darkgrey\", edgecolor=\"black\", linewidth=1.5)\n",
        "plt.xlabel(\"Magnitud\", fontsize=12)\n",
        "plt.ylabel (\"Número de eventos\", fontsize=12)\n",
        "plt.title (\"BAHB\", fontsize=14)\n",
        "plt.savefig (\"histograma-BAHB1.png\", format=\"PNG\")"
      ],
      "metadata": {
        "colab": {
          "base_uri": "https://localhost:8080/",
          "height": 299
        },
        "id": "axdnrS8WWy_l",
        "outputId": "32508034-531a-483c-a944-149208a22218"
      },
      "execution_count": 42,
      "outputs": [
        {
          "output_type": "display_data",
          "data": {
            "text/plain": [
              "<Figure size 432x288 with 1 Axes>"
            ],
            "image/png": "[encoded data removed]"
          },
          "metadata": {
            "needs_background": "light"
          }
        }
      ]
    },
    {
      "cell_type": "code",
      "source": [
        "fig = plt.figure(figsize = (6,4))\n",
        "plt.hist(data[\"distancia_km\"],20, facecolor=\"darkgrey\", edgecolor=\"black\", linewidth=1.5)\n",
        "plt.xlabel(\"Magnitud\", fontsize=12)\n",
        "plt.ylabel (\"Número de eventos\", fontsize=12)\n",
        "plt.title (\"BAHB\", fontsize=14)\n",
        "plt.savefig (\"histograma-BAHB1.png\", format=\"PNG\")"
      ],
      "metadata": {
        "colab": {
          "base_uri": "https://localhost:8080/",
          "height": 299
        },
        "id": "rWayLXUH32RG",
        "outputId": "c6703525-34f9-439b-c638-8b2561740b13"
      },
      "execution_count": 43,
      "outputs": [
        {
          "output_type": "display_data",
          "data": {
            "text/plain": [
              "<Figure size 432x288 with 1 Axes>"
            ],
            "image/png": "[encoded data removed]"
          },
          "metadata": {
            "needs_background": "light"
          }
        }
      ]
    },
    {
      "cell_type": "code",
      "source": [
        "data.head(3)"
      ],
      "metadata": {
        "colab": {
          "base_uri": "https://localhost:8080/",
          "height": 207
        },
        "id": "BEKl0vuM5OdT",
        "outputId": "b1edd9ae-9af9-4dbd-fea7-11d38918f602"
      },
      "execution_count": 44,
      "outputs": [
        {
          "output_type": "execute_result",
          "data": {
            "text/plain": [
              "     azimuth  distancia_km   distancia_m      (D/8)  pt         st   st(min)  \\\n",
              "0  333.94711     59.668006   59668.00552   7.458501 NaN   7.458501  0.124308   \n",
              "1  154.83750    181.962734  181962.73360  22.745342 NaN  22.745342  0.379089   \n",
              "2  155.00538    183.290582  183290.58160  22.911323 NaN  22.911323  0.381855   \n",
              "\n",
              "  estacion  num  YEAR  MN  DAY  HR  MIN    SECS    LAT_N     LOG_W  DEPTH  MAG  \n",
              "0     BAHB   47  2003   8   15   9   44  41.388  28.4596 -113.2922   5.66  4.6  \n",
              "1     BAHB  107  2005   4   27   0   32  58.814  30.4312 -114.3545   0.40  5.0  \n",
              "2     BAHB  111  2005   4   27   0   32  59.542  30.4441 -114.3553   2.15  5.0  "
            ],
            "text/html": [
              "\n",
              "  <div id=\"df-2531599e-fe22-400f-abab-7dbfc7a8a4c4\">\n",
              "    <div class=\"colab-df-container\">\n",
              "      <div>\n",
              "<style scoped>\n",
              "    .dataframe tbody tr th:only-of-type {\n",
              "        vertical-align: middle;\n",
              "    }\n",
              "\n",
              "    .dataframe tbody tr th {\n",
              "        vertical-align: top;\n",
              "    }\n",
              "\n",
              "    .dataframe thead th {\n",
              "        text-align: right;\n",
              "    }\n",
              "</style>\n",
              "<table border=\"1\" class=\"dataframe\">\n",
              "  <thead>\n",
              "    <tr style=\"text-align: right;\">\n",
              "      <th></th>\n",
              "      <th>azimuth</th>\n",
              "      <th>distancia_km</th>\n",
              "      <th>distancia_m</th>\n",
              "      <th>(D/8)</th>\n",
              "      <th>pt</th>\n",
              "      <th>st</th>\n",
              "      <th>st(min)</th>\n",
              "      <th>estacion</th>\n",
              "      <th>num</th>\n",
              "      <th>YEAR</th>\n",
              "      <th>MN</th>\n",
              "      <th>DAY</th>\n",
              "      <th>HR</th>\n",
              "      <th>MIN</th>\n",
              "      <th>SECS</th>\n",
              "      <th>LAT_N</th>\n",
              "      <th>LOG_W</th>\n",
              "      <th>DEPTH</th>\n",
              "      <th>MAG</th>\n",
              "    </tr>\n",
              "  </thead>\n",
              "  <tbody>\n",
              "    <tr>\n",
              "      <th>0</th>\n",
              "      <td>333.94711</td>\n",
              "      <td>59.668006</td>\n",
              "      <td>59668.00552</td>\n",
              "      <td>7.458501</td>\n",
              "      <td>NaN</td>\n",
              "      <td>7.458501</td>\n",
              "      <td>0.124308</td>\n",
              "      <td>BAHB</td>\n",
              "      <td>47</td>\n",
              "      <td>2003</td>\n",
              "      <td>8</td>\n",
              "      <td>15</td>\n",
              "      <td>9</td>\n",
              "      <td>44</td>\n",
              "      <td>41.388</td>\n",
              "      <td>28.4596</td>\n",
              "      <td>-113.2922</td>\n",
              "      <td>5.66</td>\n",
              "      <td>4.6</td>\n",
              "    </tr>\n",
              "    <tr>\n",
              "      <th>1</th>\n",
              "      <td>154.83750</td>\n",
              "      <td>181.962734</td>\n",
              "      <td>181962.73360</td>\n",
              "      <td>22.745342</td>\n",
              "      <td>NaN</td>\n",
              "      <td>22.745342</td>\n",
              "      <td>0.379089</td>\n",
              "      <td>BAHB</td>\n",
              "      <td>107</td>\n",
              "      <td>2005</td>\n",
              "      <td>4</td>\n",
              "      <td>27</td>\n",
              "      <td>0</td>\n",
              "      <td>32</td>\n",
              "      <td>58.814</td>\n",
              "      <td>30.4312</td>\n",
              "      <td>-114.3545</td>\n",
              "      <td>0.40</td>\n",
              "      <td>5.0</td>\n",
              "    </tr>\n",
              "    <tr>\n",
              "      <th>2</th>\n",
              "      <td>155.00538</td>\n",
              "      <td>183.290582</td>\n",
              "      <td>183290.58160</td>\n",
              "      <td>22.911323</td>\n",
              "      <td>NaN</td>\n",
              "      <td>22.911323</td>\n",
              "      <td>0.381855</td>\n",
              "      <td>BAHB</td>\n",
              "      <td>111</td>\n",
              "      <td>2005</td>\n",
              "      <td>4</td>\n",
              "      <td>27</td>\n",
              "      <td>0</td>\n",
              "      <td>32</td>\n",
              "      <td>59.542</td>\n",
              "      <td>30.4441</td>\n",
              "      <td>-114.3553</td>\n",
              "      <td>2.15</td>\n",
              "      <td>5.0</td>\n",
              "    </tr>\n",
              "  </tbody>\n",
              "</table>\n",
              "</div>\n",
              "      <button class=\"colab-df-convert\" onclick=\"convertToInteractive('df-2531599e-fe22-400f-abab-7dbfc7a8a4c4')\"\n",
              "              title=\"Convert this dataframe to an interactive table.\"\n",
              "              style=\"display:none;\">\n",
              "        \n",
              "  <svg xmlns=\"http://www.w3.org/2000/svg\" height=\"24px\"viewBox=\"0 0 24 24\"\n",
              "       width=\"24px\">\n",
              "    <path d=\"M0 0h24v24H0V0z\" fill=\"none\"/>\n",
              "    <path d=\"M18.56 5.44l.94 2.06.94-2.06 2.06-.94-2.06-.94-.94-2.06-.94 2.06-2.06.94zm-11 1L8.5 8.5l.94-2.06 2.06-.94-2.06-.94L8.5 2.5l-.94 2.06-2.06.94zm10 10l.94 2.06.94-2.06 2.06-.94-2.06-.94-.94-2.06-.94 2.06-2.06.94z\"/><path d=\"M17.41 7.96l-1.37-1.37c-.4-.4-.92-.59-1.43-.59-.52 0-1.04.2-1.43.59L10.3 9.45l-7.72 7.72c-.78.78-.78 2.05 0 2.83L4 21.41c.39.39.9.59 1.41.59.51 0 1.02-.2 1.41-.59l7.78-7.78 2.81-2.81c.8-.78.8-2.07 0-2.86zM5.41 20L4 18.59l7.72-7.72 1.47 1.35L5.41 20z\"/>\n",
              "  </svg>\n",
              "      </button>\n",
              "      \n",
              "  <style>\n",
              "    .colab-df-container {\n",
              "      display:flex;\n",
              "      flex-wrap:wrap;\n",
              "      gap: 12px;\n",
              "    }\n",
              "\n",
              "    .colab-df-convert {\n",
              "      background-color: #E8F0FE;\n",
              "      border: none;\n",
              "      border-radius: 50%;\n",
              "      cursor: pointer;\n",
              "      display: none;\n",
              "      fill: #1967D2;\n",
              "      height: 32px;\n",
              "      padding: 0 0 0 0;\n",
              "      width: 32px;\n",
              "    }\n",
              "\n",
              "    .colab-df-convert:hover {\n",
              "      background-color: #E2EBFA;\n",
              "      box-shadow: 0px 1px 2px rgba(60, 64, 67, 0.3), 0px 1px 3px 1px rgba(60, 64, 67, 0.15);\n",
              "      fill: #174EA6;\n",
              "    }\n",
              "\n",
              "    [theme=dark] .colab-df-convert {\n",
              "      background-color: #3B4455;\n",
              "      fill: #D2E3FC;\n",
              "    }\n",
              "\n",
              "    [theme=dark] .colab-df-convert:hover {\n",
              "      background-color: #434B5C;\n",
              "      box-shadow: 0px 1px 3px 1px rgba(0, 0, 0, 0.15);\n",
              "      filter: drop-shadow(0px 1px 2px rgba(0, 0, 0, 0.3));\n",
              "      fill: #FFFFFF;\n",
              "    }\n",
              "  </style>\n",
              "\n",
              "      <script>\n",
              "        const buttonEl =\n",
              "          document.querySelector('#df-2531599e-fe22-400f-abab-7dbfc7a8a4c4 button.colab-df-convert');\n",
              "        buttonEl.style.display =\n",
              "          google.colab.kernel.accessAllowed ? 'block' : 'none';\n",
              "\n",
              "        async function convertToInteractive(key) {\n",
              "          const element = document.querySelector('#df-2531599e-fe22-400f-abab-7dbfc7a8a4c4');\n",
              "          const dataTable =\n",
              "            await google.colab.kernel.invokeFunction('convertToInteractive',\n",
              "                                                     [key], {});\n",
              "          if (!dataTable) return;\n",
              "\n",
              "          const docLinkHtml = 'Like what you see? Visit the ' +\n",
              "            '<a target=\"_blank\" href=https://colab.research.google.com/notebooks/data_table.ipynb>data table notebook</a>'\n",
              "            + ' to learn more about interactive tables.';\n",
              "          element.innerHTML = '';\n",
              "          dataTable['output_type'] = 'display_data';\n",
              "          await google.colab.output.renderOutput(dataTable, element);\n",
              "          const docLink = document.createElement('div');\n",
              "          docLink.innerHTML = docLinkHtml;\n",
              "          element.appendChild(docLink);\n",
              "        }\n",
              "      </script>\n",
              "    </div>\n",
              "  </div>\n",
              "  "
            ]
          },
          "metadata": {},
          "execution_count": 44
        }
      ]
    },
    {
      "cell_type": "code",
      "source": [
        "data.shape"
      ],
      "metadata": {
        "colab": {
          "base_uri": "https://localhost:8080/",
          "height": 0
        },
        "id": "FxmOzrb25dh7",
        "outputId": "6711e9c1-f709-4fe0-c1b5-c308d864eca9"
      },
      "execution_count": 45,
      "outputs": [
        {
          "output_type": "execute_result",
          "data": {
            "text/plain": [
              "(60, 19)"
            ]
          },
          "metadata": {},
          "execution_count": 45
        }
      ]
    },
    {
      "cell_type": "markdown",
      "source": [
        "si quiero acceder a la propiedad distancia_m del dataframe data se puede usar "
      ],
      "metadata": {
        "id": "yzPTRM_87gnb"
      }
    },
    {
      "cell_type": "code",
      "source": [
        "data.distancia_m"
      ],
      "metadata": {
        "colab": {
          "base_uri": "https://localhost:8080/",
          "height": 0
        },
        "id": "f4cKDA9H7fnb",
        "outputId": "ea6103f7-9525-4f45-a851-e919826762af"
      },
      "execution_count": 46,
      "outputs": [
        {
          "output_type": "execute_result",
          "data": {
            "text/plain": [
              "0      59668.00552\n",
              "1     181962.73360\n",
              "2     183290.58160\n",
              "3     150285.08230\n",
              "4     149990.15590\n",
              "5     142462.26450\n",
              "6     115230.11910\n",
              "7     119240.66050\n",
              "8     149046.23020\n",
              "9     194224.76240\n",
              "10    108870.90590\n",
              "11     78579.09926\n",
              "12     55060.22531\n",
              "13     63619.55786\n",
              "14     71649.11238\n",
              "15     81198.75972\n",
              "16     22718.28585\n",
              "17     79481.07177\n",
              "18     31098.80565\n",
              "19    114323.95310\n",
              "20     68974.21952\n",
              "21     69928.77781\n",
              "22     55989.30393\n",
              "23     63898.61896\n",
              "24     40522.35535\n",
              "25    110749.20600\n",
              "26     56122.96323\n",
              "27     56317.92473\n",
              "28     68770.50608\n",
              "29     79944.01442\n",
              "30     18495.89368\n",
              "31     68158.50660\n",
              "32     99350.17664\n",
              "33     68497.10037\n",
              "34     96491.34185\n",
              "35     69259.48062\n",
              "36     71631.48061\n",
              "37     69366.68878\n",
              "38     72405.70736\n",
              "39     84147.71787\n",
              "40     69321.15034\n",
              "41     68997.14484\n",
              "42     69755.53318\n",
              "43     67939.32988\n",
              "44     67882.18793\n",
              "45     67693.43221\n",
              "46     89391.89515\n",
              "47     60360.48648\n",
              "48     50958.36392\n",
              "49     75374.50910\n",
              "50     79458.58240\n",
              "51    142938.49370\n",
              "52    174692.12850\n",
              "53     51190.76016\n",
              "54     19572.74145\n",
              "55    209623.56180\n",
              "56    191583.58570\n",
              "57    159939.69650\n",
              "58    186917.07920\n",
              "59    175583.02840\n",
              "Name: distancia_m, dtype: float64"
            ]
          },
          "metadata": {},
          "execution_count": 46
        }
      ]
    },
    {
      "cell_type": "code",
      "source": [
        "data[\"distancia_m\"]"
      ],
      "metadata": {
        "colab": {
          "base_uri": "https://localhost:8080/",
          "height": 0
        },
        "id": "fdA--DfOAihr",
        "outputId": "aa166791-e794-4f22-9074-da923a0355ae"
      },
      "execution_count": 47,
      "outputs": [
        {
          "output_type": "execute_result",
          "data": {
            "text/plain": [
              "0      59668.00552\n",
              "1     181962.73360\n",
              "2     183290.58160\n",
              "3     150285.08230\n",
              "4     149990.15590\n",
              "5     142462.26450\n",
              "6     115230.11910\n",
              "7     119240.66050\n",
              "8     149046.23020\n",
              "9     194224.76240\n",
              "10    108870.90590\n",
              "11     78579.09926\n",
              "12     55060.22531\n",
              "13     63619.55786\n",
              "14     71649.11238\n",
              "15     81198.75972\n",
              "16     22718.28585\n",
              "17     79481.07177\n",
              "18     31098.80565\n",
              "19    114323.95310\n",
              "20     68974.21952\n",
              "21     69928.77781\n",
              "22     55989.30393\n",
              "23     63898.61896\n",
              "24     40522.35535\n",
              "25    110749.20600\n",
              "26     56122.96323\n",
              "27     56317.92473\n",
              "28     68770.50608\n",
              "29     79944.01442\n",
              "30     18495.89368\n",
              "31     68158.50660\n",
              "32     99350.17664\n",
              "33     68497.10037\n",
              "34     96491.34185\n",
              "35     69259.48062\n",
              "36     71631.48061\n",
              "37     69366.68878\n",
              "38     72405.70736\n",
              "39     84147.71787\n",
              "40     69321.15034\n",
              "41     68997.14484\n",
              "42     69755.53318\n",
              "43     67939.32988\n",
              "44     67882.18793\n",
              "45     67693.43221\n",
              "46     89391.89515\n",
              "47     60360.48648\n",
              "48     50958.36392\n",
              "49     75374.50910\n",
              "50     79458.58240\n",
              "51    142938.49370\n",
              "52    174692.12850\n",
              "53     51190.76016\n",
              "54     19572.74145\n",
              "55    209623.56180\n",
              "56    191583.58570\n",
              "57    159939.69650\n",
              "58    186917.07920\n",
              "59    175583.02840\n",
              "Name: distancia_m, dtype: float64"
            ]
          },
          "metadata": {},
          "execution_count": 47
        }
      ]
    },
    {
      "cell_type": "markdown",
      "source": [
        "Seleccionar un elemento más específico.\n"
      ],
      "metadata": {
        "id": "2Qg6eRRpA0po"
      }
    },
    {
      "cell_type": "code",
      "source": [
        "data[\"distancia_m\"][59]"
      ],
      "metadata": {
        "colab": {
          "base_uri": "https://localhost:8080/",
          "height": 0
        },
        "id": "9RrazYmpAq1O",
        "outputId": "ef465473-dac4-4040-b41f-88a77baccb90"
      },
      "execution_count": 48,
      "outputs": [
        {
          "output_type": "execute_result",
          "data": {
            "text/plain": [
              "175583.0284"
            ]
          },
          "metadata": {},
          "execution_count": 48
        }
      ]
    },
    {
      "cell_type": "markdown",
      "source": [
        "selecciona el renglon #"
      ],
      "metadata": {
        "id": "3iR6dapNCne3"
      }
    },
    {
      "cell_type": "code",
      "source": [
        "data.iloc[4]"
      ],
      "metadata": {
        "colab": {
          "base_uri": "https://localhost:8080/",
          "height": 0
        },
        "id": "WHfLgxOfCWpS",
        "outputId": "e7379054-fe41-44a7-ede9-08d2c97bf9c8"
      },
      "execution_count": 49,
      "outputs": [
        {
          "output_type": "execute_result",
          "data": {
            "text/plain": [
              "azimuth           302.95003\n",
              "distancia_km     149.990156\n",
              "distancia_m     149990.1559\n",
              "(D/8)             18.748769\n",
              "pt                    1.293\n",
              "st                20.041769\n",
              "st(min)            0.334029\n",
              "estacion               BAHB\n",
              "num                     279\n",
              "YEAR                   2006\n",
              "MN                        1\n",
              "DAY                       4\n",
              "HR                        8\n",
              "MIN                      30\n",
              "SECS                  38.33\n",
              "LAT_N                28.213\n",
              "LOG_W               -112.27\n",
              "DEPTH                   3.0\n",
              "MAG                    4.76\n",
              "Name: 4, dtype: object"
            ]
          },
          "metadata": {},
          "execution_count": 49
        }
      ]
    },
    {
      "cell_type": "markdown",
      "source": [
        "para obtener la n columna"
      ],
      "metadata": {
        "id": "nT8rVn5nCqoJ"
      }
    },
    {
      "cell_type": "code",
      "source": [
        "data.iloc[:,0]"
      ],
      "metadata": {
        "colab": {
          "base_uri": "https://localhost:8080/",
          "height": 0
        },
        "id": "_qMgbVp1BYIT",
        "outputId": "9b85a084-84ed-420d-83d0-ca8cce67868f"
      },
      "execution_count": 50,
      "outputs": [
        {
          "output_type": "execute_result",
          "data": {
            "text/plain": [
              "0     333.94711\n",
              "1     154.83750\n",
              "2     155.00538\n",
              "3     301.73707\n",
              "4     302.95003\n",
              "5     304.03044\n",
              "6     303.02262\n",
              "7     297.89150\n",
              "8     303.07901\n",
              "9     297.90296\n",
              "10    169.75535\n",
              "11    155.86955\n",
              "12    169.77011\n",
              "13    159.86777\n",
              "14    162.12282\n",
              "15    154.42787\n",
              "16    212.41117\n",
              "17    150.33380\n",
              "18    268.03473\n",
              "19    171.16978\n",
              "20    162.08690\n",
              "21    163.76753\n",
              "22    162.32121\n",
              "23    164.18690\n",
              "24    195.64653\n",
              "25    171.70395\n",
              "26    258.74688\n",
              "27    258.02688\n",
              "28    158.79858\n",
              "29    156.51285\n",
              "30    212.48766\n",
              "31    158.96813\n",
              "32    175.94831\n",
              "33    158.51717\n",
              "34    169.22067\n",
              "35    165.28906\n",
              "36    158.00283\n",
              "37    160.13247\n",
              "38    161.52862\n",
              "39    150.06531\n",
              "40    280.95001\n",
              "41    163.39861\n",
              "42    165.94151\n",
              "43    162.64210\n",
              "44    159.96837\n",
              "45    161.69269\n",
              "46    158.67722\n",
              "47    175.35849\n",
              "48    190.96280\n",
              "49    156.78095\n",
              "50    171.52596\n",
              "51    162.41178\n",
              "52    165.42048\n",
              "53    284.25885\n",
              "54    281.54516\n",
              "55    151.71007\n",
              "56    158.59484\n",
              "57    164.59793\n",
              "58    160.24338\n",
              "59    160.09308\n",
              "Name: azimuth, dtype: float64"
            ]
          },
          "metadata": {},
          "execution_count": 50
        }
      ]
    },
    {
      "cell_type": "markdown",
      "source": [
        "{renglon, columna}"
      ],
      "metadata": {
        "id": "EOsrkOC1DR4B"
      }
    },
    {
      "cell_type": "code",
      "source": [
        "data.iloc[:3,0]"
      ],
      "metadata": {
        "colab": {
          "base_uri": "https://localhost:8080/",
          "height": 0
        },
        "id": "iPmDfRKfDHZg",
        "outputId": "4f463d4b-4e5f-4c45-93c7-ba969dea4aa1"
      },
      "execution_count": 51,
      "outputs": [
        {
          "output_type": "execute_result",
          "data": {
            "text/plain": [
              "0    333.94711\n",
              "1    154.83750\n",
              "2    155.00538\n",
              "Name: azimuth, dtype: float64"
            ]
          },
          "metadata": {},
          "execution_count": 51
        }
      ]
    },
    {
      "cell_type": "markdown",
      "source": [
        "seleccionamos el segundo y tercero"
      ],
      "metadata": {
        "id": "UPH3EPnMDjxS"
      }
    },
    {
      "cell_type": "markdown",
      "source": [
        ""
      ],
      "metadata": {
        "id": "D8OwBO_DDtaO"
      }
    },
    {
      "cell_type": "code",
      "source": [
        "data.iloc[1:3,0]"
      ],
      "metadata": {
        "colab": {
          "base_uri": "https://localhost:8080/",
          "height": 0
        },
        "id": "E04bjyR2Dj7w",
        "outputId": "0fe12bce-9f22-4581-8b5a-f56ef7878a88"
      },
      "execution_count": 52,
      "outputs": [
        {
          "output_type": "execute_result",
          "data": {
            "text/plain": [
              "1    154.83750\n",
              "2    155.00538\n",
              "Name: azimuth, dtype: float64"
            ]
          },
          "metadata": {},
          "execution_count": 52
        }
      ]
    },
    {
      "cell_type": "markdown",
      "source": [
        "que renglones queremos mediante una lista"
      ],
      "metadata": {
        "id": "5BJOcY8WDudY"
      }
    },
    {
      "cell_type": "code",
      "source": [
        "data.iloc[[0,1,2],0]"
      ],
      "metadata": {
        "colab": {
          "base_uri": "https://localhost:8080/",
          "height": 0
        },
        "id": "Zv382vbQDO8B",
        "outputId": "a2bfd6e4-b089-4e40-cc84-8f6ee009417b"
      },
      "execution_count": 53,
      "outputs": [
        {
          "output_type": "execute_result",
          "data": {
            "text/plain": [
              "0    333.94711\n",
              "1    154.83750\n",
              "2    155.00538\n",
              "Name: azimuth, dtype: float64"
            ]
          },
          "metadata": {},
          "execution_count": 53
        }
      ]
    },
    {
      "cell_type": "code",
      "source": [
        "data_1 = pd.read_csv (\"blood_pressure.txt\", names =[\"edad\", \"presion\"], sep=\"\\s+\", skiprows=26)\n",
        "data_1.head(3)"
      ],
      "metadata": {
        "colab": {
          "base_uri": "https://localhost:8080/",
          "height": 143
        },
        "id": "LwNdmCK5Gvje",
        "outputId": "48e8db1c-465b-4987-dfe1-1eabd781c0aa"
      },
      "execution_count": 79,
      "outputs": [
        {
          "output_type": "execute_result",
          "data": {
            "text/plain": [
              "   edad  presion\n",
              "0    39      144\n",
              "1    45      138\n",
              "2    47      145"
            ],
            "text/html": [
              "\n",
              "  <div id=\"df-22fc1906-25db-41d6-b9b1-1223464b2a91\">\n",
              "    <div class=\"colab-df-container\">\n",
              "      <div>\n",
              "<style scoped>\n",
              "    .dataframe tbody tr th:only-of-type {\n",
              "        vertical-align: middle;\n",
              "    }\n",
              "\n",
              "    .dataframe tbody tr th {\n",
              "        vertical-align: top;\n",
              "    }\n",
              "\n",
              "    .dataframe thead th {\n",
              "        text-align: right;\n",
              "    }\n",
              "</style>\n",
              "<table border=\"1\" class=\"dataframe\">\n",
              "  <thead>\n",
              "    <tr style=\"text-align: right;\">\n",
              "      <th></th>\n",
              "      <th>edad</th>\n",
              "      <th>presion</th>\n",
              "    </tr>\n",
              "  </thead>\n",
              "  <tbody>\n",
              "    <tr>\n",
              "      <th>0</th>\n",
              "      <td>39</td>\n",
              "      <td>144</td>\n",
              "    </tr>\n",
              "    <tr>\n",
              "      <th>1</th>\n",
              "      <td>45</td>\n",
              "      <td>138</td>\n",
              "    </tr>\n",
              "    <tr>\n",
              "      <th>2</th>\n",
              "      <td>47</td>\n",
              "      <td>145</td>\n",
              "    </tr>\n",
              "  </tbody>\n",
              "</table>\n",
              "</div>\n",
              "      <button class=\"colab-df-convert\" onclick=\"convertToInteractive('df-22fc1906-25db-41d6-b9b1-1223464b2a91')\"\n",
              "              title=\"Convert this dataframe to an interactive table.\"\n",
              "              style=\"display:none;\">\n",
              "        \n",
              "  <svg xmlns=\"http://www.w3.org/2000/svg\" height=\"24px\"viewBox=\"0 0 24 24\"\n",
              "       width=\"24px\">\n",
              "    <path d=\"M0 0h24v24H0V0z\" fill=\"none\"/>\n",
              "    <path d=\"M18.56 5.44l.94 2.06.94-2.06 2.06-.94-2.06-.94-.94-2.06-.94 2.06-2.06.94zm-11 1L8.5 8.5l.94-2.06 2.06-.94-2.06-.94L8.5 2.5l-.94 2.06-2.06.94zm10 10l.94 2.06.94-2.06 2.06-.94-2.06-.94-.94-2.06-.94 2.06-2.06.94z\"/><path d=\"M17.41 7.96l-1.37-1.37c-.4-.4-.92-.59-1.43-.59-.52 0-1.04.2-1.43.59L10.3 9.45l-7.72 7.72c-.78.78-.78 2.05 0 2.83L4 21.41c.39.39.9.59 1.41.59.51 0 1.02-.2 1.41-.59l7.78-7.78 2.81-2.81c.8-.78.8-2.07 0-2.86zM5.41 20L4 18.59l7.72-7.72 1.47 1.35L5.41 20z\"/>\n",
              "  </svg>\n",
              "      </button>\n",
              "      \n",
              "  <style>\n",
              "    .colab-df-container {\n",
              "      display:flex;\n",
              "      flex-wrap:wrap;\n",
              "      gap: 12px;\n",
              "    }\n",
              "\n",
              "    .colab-df-convert {\n",
              "      background-color: #E8F0FE;\n",
              "      border: none;\n",
              "      border-radius: 50%;\n",
              "      cursor: pointer;\n",
              "      display: none;\n",
              "      fill: #1967D2;\n",
              "      height: 32px;\n",
              "      padding: 0 0 0 0;\n",
              "      width: 32px;\n",
              "    }\n",
              "\n",
              "    .colab-df-convert:hover {\n",
              "      background-color: #E2EBFA;\n",
              "      box-shadow: 0px 1px 2px rgba(60, 64, 67, 0.3), 0px 1px 3px 1px rgba(60, 64, 67, 0.15);\n",
              "      fill: #174EA6;\n",
              "    }\n",
              "\n",
              "    [theme=dark] .colab-df-convert {\n",
              "      background-color: #3B4455;\n",
              "      fill: #D2E3FC;\n",
              "    }\n",
              "\n",
              "    [theme=dark] .colab-df-convert:hover {\n",
              "      background-color: #434B5C;\n",
              "      box-shadow: 0px 1px 3px 1px rgba(0, 0, 0, 0.15);\n",
              "      filter: drop-shadow(0px 1px 2px rgba(0, 0, 0, 0.3));\n",
              "      fill: #FFFFFF;\n",
              "    }\n",
              "  </style>\n",
              "\n",
              "      <script>\n",
              "        const buttonEl =\n",
              "          document.querySelector('#df-22fc1906-25db-41d6-b9b1-1223464b2a91 button.colab-df-convert');\n",
              "        buttonEl.style.display =\n",
              "          google.colab.kernel.accessAllowed ? 'block' : 'none';\n",
              "\n",
              "        async function convertToInteractive(key) {\n",
              "          const element = document.querySelector('#df-22fc1906-25db-41d6-b9b1-1223464b2a91');\n",
              "          const dataTable =\n",
              "            await google.colab.kernel.invokeFunction('convertToInteractive',\n",
              "                                                     [key], {});\n",
              "          if (!dataTable) return;\n",
              "\n",
              "          const docLinkHtml = 'Like what you see? Visit the ' +\n",
              "            '<a target=\"_blank\" href=https://colab.research.google.com/notebooks/data_table.ipynb>data table notebook</a>'\n",
              "            + ' to learn more about interactive tables.';\n",
              "          element.innerHTML = '';\n",
              "          dataTable['output_type'] = 'display_data';\n",
              "          await google.colab.output.renderOutput(dataTable, element);\n",
              "          const docLink = document.createElement('div');\n",
              "          docLink.innerHTML = docLinkHtml;\n",
              "          element.appendChild(docLink);\n",
              "        }\n",
              "      </script>\n",
              "    </div>\n",
              "  </div>\n",
              "  "
            ]
          },
          "metadata": {},
          "execution_count": 79
        }
      ]
    },
    {
      "cell_type": "code",
      "source": [
        "plt.scatter(data_1[\"edad\"], data_1[\"presion\"])\n",
        "plt.xlabel ( \"Edad (años)\")\n",
        "plt.ylabel (\"Presión Sanguinea (mmHg)\")\n",
        "plt.show()"
      ],
      "metadata": {
        "colab": {
          "base_uri": "https://localhost:8080/",
          "height": 279
        },
        "id": "9aJ_4vCRJvxt",
        "outputId": "fbbf57a6-e997-4025-c4a6-a8b39281c4f0"
      },
      "execution_count": 65,
      "outputs": [
        {
          "output_type": "display_data",
          "data": {
            "text/plain": [
              "<Figure size 432x288 with 1 Axes>"
            ],
            "image/png": "[encoded data removed]"
          },
          "metadata": {
            "needs_background": "light"
          }
        }
      ]
    },
    {
      "cell_type": "code",
      "source": [
        ""
      ],
      "metadata": {
        "id": "m-lvxp0jLYkD"
      },
      "execution_count": null,
      "outputs": []
    },
    {
      "cell_type": "code",
      "source": [
        "from scipy.stats import linregress"
      ],
      "metadata": {
        "id": "j9puF6xBLYpp"
      },
      "execution_count": 67,
      "outputs": []
    },
    {
      "cell_type": "code",
      "source": [
        "regresion = linregress (data_1[\"edad\"],data_1[\"presion\"])"
      ],
      "metadata": {
        "id": "uw6QBnObLoRK"
      },
      "execution_count": 68,
      "outputs": []
    },
    {
      "cell_type": "code",
      "source": [
        "regresion"
      ],
      "metadata": {
        "colab": {
          "base_uri": "https://localhost:8080/",
          "height": 0
        },
        "id": "k7jYKLiaL06w",
        "outputId": "50b4333f-6e62-45da-a7e1-5bd0171e14e9"
      },
      "execution_count": 69,
      "outputs": [
        {
          "output_type": "execute_result",
          "data": {
            "text/plain": [
              "LinregressResult(slope=0.9493225373316514, intercept=97.07708426577695, rvalue=0.8439069051978124, pvalue=8.876280872508932e-09, stderr=0.11614451633658138, intercept_stderr=5.527551695733593)"
            ]
          },
          "metadata": {},
          "execution_count": 69
        }
      ]
    },
    {
      "cell_type": "code",
      "source": [
        "print (\"termino indep:\", regresion.intercept)"
      ],
      "metadata": {
        "colab": {
          "base_uri": "https://localhost:8080/",
          "height": 0
        },
        "id": "IVgVhTwfMN10",
        "outputId": "aac5d095-49bd-4154-96a5-35a557a7a6ce"
      },
      "execution_count": 70,
      "outputs": [
        {
          "output_type": "stream",
          "name": "stdout",
          "text": [
            "termino indep: 97.07708426577695\n"
          ]
        }
      ]
    },
    {
      "cell_type": "code",
      "source": [
        "edades_reg = np.array([data_1[\"edad\"].min(), data_1[\"edad\"].max()])\n",
        "presion_reg = regresion.slope*edades_reg + regresion.intercept\n",
        "\n",
        "plt.scatter(data_1[\"edad\"], data_1[\"presion\"], label=\"Datos\")\n",
        "plt.plot (edades_reg, presion_reg, color= \"blue\", label=\"regresion lineal\")\n",
        "\n",
        "plt.xlabel ( \"Edad (años)\")\n",
        "plt.ylabel (\"Presión Sanguinea (mmHg)\")\n",
        "plt.legend()\n",
        "plt.show()"
      ],
      "metadata": {
        "colab": {
          "base_uri": "https://localhost:8080/",
          "height": 279
        },
        "id": "KEstltfaMXzv",
        "outputId": "fc6a80e0-e611-4db8-aba9-412ce486c15a"
      },
      "execution_count": 77,
      "outputs": [
        {
          "output_type": "display_data",
          "data": {
            "text/plain": [
              "<Figure size 432x288 with 1 Axes>"
            ],
            "image/png": "[encoded data removed]"
          },
          "metadata": {
            "needs_background": "light"
          }
        }
      ]
    }
  ]
}